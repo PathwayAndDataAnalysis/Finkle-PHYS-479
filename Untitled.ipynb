{
 "cells": [
  {
   "cell_type": "code",
   "execution_count": 45,
   "metadata": {},
   "outputs": [
    {
     "name": "stdout",
     "output_type": "stream",
     "text": [
      "1.0\n",
      "1.0\n",
      "0.09492473187882457\n",
      "[20, 21, 22, 23, 24, 25, 26, 27, 28, 29, 30, 31, 32, 33, 34, 35, 36, 37, 38, 39, 40, 41, 42, 43, 44, 45]\n",
      "[30, 31, 32, 33, 34, 35, 36, 37, 38, 39, 40, 41, 42, 43, 44, 45, 46, 47, 48, 49, 50]\n"
     ]
    },
    {
     "data": {
      "text/plain": [
       "(0.957691417585916, 0.09492473187882451)"
      ]
     },
     "execution_count": 45,
     "metadata": {},
     "output_type": "execute_result"
    }
   ],
   "source": [
    "from scipy.stats import hypergeom\n",
    "\n",
    "def p_values(remaining_unfavorable,\n",
    "             selected_unfavorable,\n",
    "             remaining_favorable,\n",
    "             selected_favorable):\n",
    "    \"\"\"\n",
    "    [[20, 30], \n",
    "     [25, 20]]\n",
    "    \n",
    "    \"\"\"\n",
    "    unfavorable = remaining_unfavorable + selected_unfavorable\n",
    "    favorable = remaining_favorable + selected_favorable\n",
    "    selected = selected_unfavorable + selected_favorable\n",
    "    trials = unfavorable + favorable\n",
    "    more_favorable = [i for i in range(selected_favorable, favorable + 1)]\n",
    "    less_favorable = [i for i in range(selected_unfavorable, unfavorable + 1)]\n",
    "    print(more_favorable)\n",
    "    print(less_favorable)\n",
    "    return (sum(hypergeom.pmf(more_favorable, trials, favorable, selected)),\n",
    "            sum(hypergeom.pmf(less_favorable, trials, unfavorable, selected)))"
   ]
  },
  {
   "cell_type": "code",
   "execution_count": null,
   "metadata": {},
   "outputs": [],
   "source": []
  }
 ],
 "metadata": {
  "kernelspec": {
   "display_name": "Python 3",
   "language": "python",
   "name": "python3"
  },
  "language_info": {
   "codemirror_mode": {
    "name": "ipython",
    "version": 3
   },
   "file_extension": ".py",
   "mimetype": "text/x-python",
   "name": "python",
   "nbconvert_exporter": "python",
   "pygments_lexer": "ipython3",
   "version": "3.8.5"
  }
 },
 "nbformat": 4,
 "nbformat_minor": 4
}
